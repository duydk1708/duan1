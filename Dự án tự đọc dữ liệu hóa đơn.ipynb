# Đây là code của tôi trên Google Colab
print('Hello, GitHub!')